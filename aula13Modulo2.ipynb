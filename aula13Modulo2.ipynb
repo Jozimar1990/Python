{
 "cells": [
  {
   "cell_type": "markdown",
   "metadata": {},
   "source": [
    "<h4>Módulos 2 <br>\n",
    "\n",
    "<h6> pypi.org/project"
   ]
  },
  {
   "cell_type": "code",
   "execution_count": 8,
   "metadata": {},
   "outputs": [
    {
     "name": "stdout",
     "output_type": "stream",
     "text": [
      "Collecting emoji\n",
      "  Downloading emoji-2.8.0-py2.py3-none-any.whl (358 kB)\n",
      "                                              0.0/358.9 kB ? eta -:--:--\n",
      "     ---                                      30.7/358.9 kB ? eta -:--:--\n",
      "     ------                                61.4/358.9 kB 812.7 kB/s eta 0:00:01\n",
      "     ------------                         122.9/358.9 kB 901.1 kB/s eta 0:00:01\n",
      "     ---------------------                  204.8/358.9 kB 1.1 MB/s eta 0:00:01\n",
      "     ---------------------                  204.8/358.9 kB 1.1 MB/s eta 0:00:01\n",
      "     ---------------------------------      317.4/358.9 kB 1.0 MB/s eta 0:00:01\n",
      "     -------------------------------------  358.4/358.9 kB 1.2 MB/s eta 0:00:01\n",
      "     -------------------------------------- 358.9/358.9 kB 1.0 MB/s eta 0:00:00\n",
      "Installing collected packages: emoji\n",
      "Successfully installed emoji-2.8.0\n",
      "Note: you may need to restart the kernel to use updated packages.\n"
     ]
    },
    {
     "name": "stderr",
     "output_type": "stream",
     "text": [
      "\n",
      "[notice] A new release of pip is available: 23.1.2 -> 23.2.1\n",
      "[notice] To update, run: python.exe -m pip install --upgrade pip\n"
     ]
    }
   ],
   "source": [
    "pip install emoji"
   ]
  },
  {
   "cell_type": "code",
   "execution_count": 9,
   "metadata": {},
   "outputs": [],
   "source": [
    "import random\n",
    "import emoji as emj"
   ]
  },
  {
   "cell_type": "code",
   "execution_count": 12,
   "metadata": {},
   "outputs": [
    {
     "name": "stdout",
     "output_type": "stream",
     "text": [
      "Python is 👍\n",
      "Python is fun ❤️\n",
      "❤️\n"
     ]
    }
   ],
   "source": [
    "num = random.randint(1, 10)\n",
    "print(emj.emojize('Python is :thumbs_up:'))\n",
    "print(emj.emojize(\"Python is fun :red_heart:\"))\n",
    "print(emj.emojize(':red_heart:'))"
   ]
  },
  {
   "cell_type": "code",
   "execution_count": 3,
   "metadata": {},
   "outputs": [
    {
     "name": "stdout",
     "output_type": "stream",
     "text": [
      "5\n"
     ]
    }
   ],
   "source": [
    "print(num)"
   ]
  }
 ],
 "metadata": {
  "kernelspec": {
   "display_name": "Python 3",
   "language": "python",
   "name": "python3"
  },
  "language_info": {
   "codemirror_mode": {
    "name": "ipython",
    "version": 3
   },
   "file_extension": ".py",
   "mimetype": "text/x-python",
   "name": "python",
   "nbconvert_exporter": "python",
   "pygments_lexer": "ipython3",
   "version": "3.11.4"
  },
  "orig_nbformat": 4
 },
 "nbformat": 4,
 "nbformat_minor": 2
}
