{
 "cells": [
  {
   "cell_type": "markdown",
   "metadata": {},
   "source": [
    "módulo"
   ]
  },
  {
   "cell_type": "code",
   "execution_count": 4,
   "metadata": {},
   "outputs": [],
   "source": [
    "from datetime import datetime"
   ]
  },
  {
   "cell_type": "markdown",
   "metadata": {},
   "source": [
    "Criando uma classe"
   ]
  },
  {
   "cell_type": "code",
   "execution_count": 3,
   "metadata": {},
   "outputs": [],
   "source": [
    "class Funcionarios:\n",
    "    def __init__(self, nome, sobrenome, ano_nascimento):\n",
    "        self.nome = nome\n",
    "        self.sobrenome = sobrenome\n",
    "        self.ano_nascimento = ano_nascimento\n",
    "\n",
    "    def nome_completo(self):\n",
    "        return self.nome  + ' ' + self.sobrenome\n",
    "\n",
    "    def idade_funcionario(self):\n",
    "        ano_atual = datetime.now().year\n",
    "        self.ano_nascimento = int(ano_atual - self.ano_nascimento)\n",
    "        return self.ano_nascimento"
   ]
  },
  {
   "cell_type": "markdown",
   "metadata": {},
   "source": [
    "Criando objetos"
   ]
  },
  {
   "cell_type": "code",
   "execution_count": 6,
   "metadata": {},
   "outputs": [
    {
     "name": "stdout",
     "output_type": "stream",
     "text": [
      "14\n"
     ]
    }
   ],
   "source": [
    "usuario1 = Funcionarios('elena', 'cabral', 2009)\n",
    "usuario2 = Funcionarios('lucia', 'lima', 2005)\n",
    "usuario3 = Funcionarios('lucia', 'lima', 2003)\n",
    "\n",
    "print(Funcionarios.idade_funcionario(usuario1))"
   ]
  }
 ],
 "metadata": {
  "kernelspec": {
   "display_name": "Python 3",
   "language": "python",
   "name": "python3"
  },
  "language_info": {
   "codemirror_mode": {
    "name": "ipython",
    "version": 3
   },
   "file_extension": ".py",
   "mimetype": "text/x-python",
   "name": "python",
   "nbconvert_exporter": "python",
   "pygments_lexer": "ipython3",
   "version": "3.11.4"
  },
  "orig_nbformat": 4
 },
 "nbformat": 4,
 "nbformat_minor": 2
}
