{
 "cells": [
  {
   "cell_type": "code",
   "execution_count": 4,
   "metadata": {},
   "outputs": [],
   "source": [
    "class carros:\n",
    "    def __init__(self, velMax, ligado, cor):\n",
    "        self.velMax = velMax\n",
    "        self.ligado = ligado\n",
    "        self.cor = cor\n",
    "    \n",
    "    def mostrar(self):\n",
    "        print(f\"Velocidade máxima: {self.velMax}\")\n",
    "        print(f'Cor..............: {self.cor}')\n",
    "        estado = 'Sim' if self.ligado == True else \"Não\"\n",
    "        print(f\"ligado...........: {estado}\")\n",
    "        print('.............................')"
   ]
  },
  {
   "cell_type": "code",
   "execution_count": 3,
   "metadata": {},
   "outputs": [
    {
     "name": "stdout",
     "output_type": "stream",
     "text": [
      "Velocidade máxima: 160\n",
      "Cor..............: preto\n",
      "ligado...........: Sim\n",
      "Velocidade máxima: 180\n",
      "Cor..............: Prata\n",
      "ligado...........: Não\n",
      "Velocidade máxima: 200\n",
      "Cor..............: Amarelo\n",
      "ligado...........: Não\n"
     ]
    }
   ],
   "source": [
    "car1 = carros(160, True, 'preto')\n",
    "car2 = carros(180, False, 'Prata')\n",
    "car3 = carros(200, False, 'Amarelo')\n",
    "\n",
    "car1.mostrar()\n",
    "car2.mostrar()\n",
    "car3.mostrar()"
   ]
  }
 ],
 "metadata": {
  "kernelspec": {
   "display_name": "Python 3",
   "language": "python",
   "name": "python3"
  },
  "language_info": {
   "codemirror_mode": {
    "name": "ipython",
    "version": 3
   },
   "file_extension": ".py",
   "mimetype": "text/x-python",
   "name": "python",
   "nbconvert_exporter": "python",
   "pygments_lexer": "ipython3",
   "version": "3.11.4"
  },
  "orig_nbformat": 4
 },
 "nbformat": 4,
 "nbformat_minor": 2
}
