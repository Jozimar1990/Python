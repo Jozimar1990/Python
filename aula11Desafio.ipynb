{
 "cells": [
  {
   "cell_type": "markdown",
   "metadata": {},
   "source": [
    "1. criar uma class chamada automoveis, com parametros = marca, ano"
   ]
  },
  {
   "cell_type": "code",
   "execution_count": 2,
   "metadata": {},
   "outputs": [],
   "source": [
    "class automoveis:\n",
    "    def __init__(self, marca, ano):\n",
    "        self.marca = marca\n",
    "        self.ano = ano\n",
    "\n",
    "    def printar(self):\n",
    "        print(self.marca, self.ano)"
   ]
  },
  {
   "cell_type": "markdown",
   "metadata": {},
   "source": [
    "2. Criar objetos locadora1, locadora2, locadora3 e imprima os valores marca, ano"
   ]
  },
  {
   "cell_type": "code",
   "execution_count": 4,
   "metadata": {},
   "outputs": [
    {
     "name": "stdout",
     "output_type": "stream",
     "text": [
      "VW 2023\n",
      "Scania 2012\n",
      "Mercedes-Benz 2021\n"
     ]
    }
   ],
   "source": [
    "locadora1 = automoveis('VW', 2023)\n",
    "locadora2 = automoveis(\"Scania\", 2012)\n",
    "locadora3 = automoveis('Mercedes-Benz', 2021)\n",
    "\n",
    "locadora1.printar()\n",
    "locadora2.printar()\n",
    "locadora3.printar()\n",
    "\n"
   ]
  }
 ],
 "metadata": {
  "kernelspec": {
   "display_name": "Python 3",
   "language": "python",
   "name": "python3"
  },
  "language_info": {
   "codemirror_mode": {
    "name": "ipython",
    "version": 3
   },
   "file_extension": ".py",
   "mimetype": "text/x-python",
   "name": "python",
   "nbconvert_exporter": "python",
   "pygments_lexer": "ipython3",
   "version": "3.11.4"
  },
  "orig_nbformat": 4
 },
 "nbformat": 4,
 "nbformat_minor": 2
}
